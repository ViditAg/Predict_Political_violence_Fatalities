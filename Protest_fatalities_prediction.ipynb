{
 "cells": [
  {
   "cell_type": "markdown",
   "metadata": {},
   "source": [
    "# Predicting level of fatalities in political violence and protest events in India\n",
    "The Armed Conflict Location & Event Data Project (ACLED) is a disaggregated conflict collection, analysis and crisis mapping project.ACLED collects the dates, actors, types of violence, locations, and fatalities of all reported political violence and protest events. Political violence and protest includes events that occur within civil wars and periods of instability, public protest and regime breakdown. Data collected from India during the period of 26-January-2016 to 26-January-2019\n",
    "#### source: https://www.acleddata.com/data/\n",
    "*Raleigh, Clionadh, Andrew Linke, Håvard Hegre and Joakim Karlsen. (2010).“Introducing ACLED-Armed Conflict Location and Event Data.” Journal of PeaceResearch 47(5) 651-660.*"
   ]
  },
  {
   "cell_type": "code",
   "execution_count": 1,
   "metadata": {},
   "outputs": [],
   "source": [
    "# Importing necessary libraries\n",
    "import numpy as np\n",
    "import pandas as pd\n",
    "from datetime import datetime, timedelta\n",
    "from scipy import stats\n",
    "import matplotlib.pyplot as plt\n",
    "import seaborn as sns\n",
    "%matplotlib inline"
   ]
  },
  {
   "cell_type": "code",
   "execution_count": 2,
   "metadata": {},
   "outputs": [],
   "source": [
    "# Although it is not advisable but to keep this notebook clean and short, supress warnings \n",
    "# comment this when you want to see warnings\n",
    "import warnings\n",
    "warnings.filterwarnings(\"ignore\")"
   ]
  },
  {
   "cell_type": "code",
   "execution_count": 3,
   "metadata": {},
   "outputs": [],
   "source": [
    "# machine learning\n",
    "from sklearn.linear_model import LogisticRegression\n",
    "from sklearn.svm import SVC, LinearSVC\n",
    "from sklearn.ensemble import RandomForestClassifier\n",
    "from sklearn.neighbors import KNeighborsClassifier\n",
    "from sklearn.naive_bayes import GaussianNB\n",
    "from sklearn.linear_model import Perceptron\n",
    "from sklearn.linear_model import SGDClassifier\n",
    "from sklearn.tree import DecisionTreeClassifier\n",
    "from sklearn.ensemble import AdaBoostClassifier\n",
    "from sklearn.metrics import mean_squared_error\n",
    "from sklearn.metrics import accuracy_score\n",
    "from xgboost import XGBClassifier"
   ]
  },
  {
   "cell_type": "markdown",
   "metadata": {},
   "source": [
    "Display more columns in the data, we set it to 50."
   ]
  },
  {
   "cell_type": "code",
   "execution_count": 4,
   "metadata": {},
   "outputs": [],
   "source": [
    "pd.set_option('display.max_columns', 50)"
   ]
  },
  {
   "cell_type": "markdown",
   "metadata": {},
   "source": [
    "### Loading Data into dataframe"
   ]
  },
  {
   "cell_type": "code",
   "execution_count": 5,
   "metadata": {},
   "outputs": [],
   "source": [
    "# Loading protest and political violence data\n",
    "data=pd.read_csv('ACLED_data_India_updated.csv')\n",
    "# load codes description data\n",
    "inter_codes=pd.read_csv('Inter_codes.csv')\n",
    "geo_precision_codes=pd.read_csv('geo_precision_code.csv')\n",
    "time_precision_codes=pd.read_csv('time_precision_code.csv')"
   ]
  },
  {
   "cell_type": "markdown",
   "metadata": {},
   "source": [
    "After loading the data I first have to be know the basic structure of dataset to look for possible issues and cleaning up needed for it."
   ]
  },
  {
   "cell_type": "code",
   "execution_count": 6,
   "metadata": {},
   "outputs": [
    {
     "data": {
      "text/html": [
       "<div>\n",
       "<style scoped>\n",
       "    .dataframe tbody tr th:only-of-type {\n",
       "        vertical-align: middle;\n",
       "    }\n",
       "\n",
       "    .dataframe tbody tr th {\n",
       "        vertical-align: top;\n",
       "    }\n",
       "\n",
       "    .dataframe thead th {\n",
       "        text-align: right;\n",
       "    }\n",
       "</style>\n",
       "<table border=\"1\" class=\"dataframe\">\n",
       "  <thead>\n",
       "    <tr style=\"text-align: right;\">\n",
       "      <th></th>\n",
       "      <th>data_id</th>\n",
       "      <th>iso</th>\n",
       "      <th>event_id_cnty</th>\n",
       "      <th>event_id_no_cnty</th>\n",
       "      <th>event_date</th>\n",
       "      <th>year</th>\n",
       "      <th>time_precision</th>\n",
       "      <th>event_type</th>\n",
       "      <th>actor1</th>\n",
       "      <th>assoc_actor_1</th>\n",
       "      <th>inter1</th>\n",
       "      <th>actor2</th>\n",
       "      <th>assoc_actor_2</th>\n",
       "      <th>inter2</th>\n",
       "      <th>interaction</th>\n",
       "      <th>region</th>\n",
       "      <th>country</th>\n",
       "      <th>admin1</th>\n",
       "      <th>admin2</th>\n",
       "      <th>admin3</th>\n",
       "      <th>location</th>\n",
       "      <th>latitude</th>\n",
       "      <th>longitude</th>\n",
       "      <th>geo_precision</th>\n",
       "      <th>source</th>\n",
       "      <th>source_scale</th>\n",
       "      <th>notes</th>\n",
       "      <th>fatalities</th>\n",
       "      <th>timestamp</th>\n",
       "      <th>iso3</th>\n",
       "    </tr>\n",
       "  </thead>\n",
       "  <tbody>\n",
       "    <tr>\n",
       "      <th>0</th>\n",
       "      <td>3090605</td>\n",
       "      <td>356</td>\n",
       "      <td>IND46153</td>\n",
       "      <td>46153</td>\n",
       "      <td>16-Feb-19</td>\n",
       "      <td>2019</td>\n",
       "      <td>1</td>\n",
       "      <td>Battle-No change of territory</td>\n",
       "      <td>Military Forces of India (2014-)</td>\n",
       "      <td>Police Forces of India (2014-) Border Security...</td>\n",
       "      <td>1</td>\n",
       "      <td>Military Forces of Pakistan (2018-)</td>\n",
       "      <td>NaN</td>\n",
       "      <td>8</td>\n",
       "      <td>18</td>\n",
       "      <td>Southern Asia</td>\n",
       "      <td>India</td>\n",
       "      <td>Jammu and Kashmir</td>\n",
       "      <td>Rajouri</td>\n",
       "      <td>Naushera</td>\n",
       "      <td>Kalal</td>\n",
       "      <td>33.3418</td>\n",
       "      <td>74.3889</td>\n",
       "      <td>2</td>\n",
       "      <td>Chandigarh Tribune</td>\n",
       "      <td>Subnational</td>\n",
       "      <td>On 16 Feb, Indian and Pakistani forces exchang...</td>\n",
       "      <td>0</td>\n",
       "      <td>1550588555</td>\n",
       "      <td>IND</td>\n",
       "    </tr>\n",
       "    <tr>\n",
       "      <th>1</th>\n",
       "      <td>3090606</td>\n",
       "      <td>356</td>\n",
       "      <td>IND46154</td>\n",
       "      <td>46154</td>\n",
       "      <td>16-Feb-19</td>\n",
       "      <td>2019</td>\n",
       "      <td>1</td>\n",
       "      <td>Remote violence</td>\n",
       "      <td>Unidentified Armed Group (India)</td>\n",
       "      <td>NaN</td>\n",
       "      <td>3</td>\n",
       "      <td>Military Forces of India (2014-)</td>\n",
       "      <td>NaN</td>\n",
       "      <td>1</td>\n",
       "      <td>13</td>\n",
       "      <td>Southern Asia</td>\n",
       "      <td>India</td>\n",
       "      <td>Jammu and Kashmir</td>\n",
       "      <td>Rajouri</td>\n",
       "      <td>Naushera</td>\n",
       "      <td>Jhangar Dharmsal</td>\n",
       "      <td>33.2705</td>\n",
       "      <td>74.0508</td>\n",
       "      <td>2</td>\n",
       "      <td>Chandigarh Tribune; Daily Excelsior</td>\n",
       "      <td>Subnational</td>\n",
       "      <td>On 16 Feb, an Indian army officer was killed a...</td>\n",
       "      <td>1</td>\n",
       "      <td>1550588555</td>\n",
       "      <td>IND</td>\n",
       "    </tr>\n",
       "    <tr>\n",
       "      <th>2</th>\n",
       "      <td>3090607</td>\n",
       "      <td>356</td>\n",
       "      <td>IND46155</td>\n",
       "      <td>46155</td>\n",
       "      <td>16-Feb-19</td>\n",
       "      <td>2019</td>\n",
       "      <td>1</td>\n",
       "      <td>Riots/Protests</td>\n",
       "      <td>Rioters (India)</td>\n",
       "      <td>NaN</td>\n",
       "      <td>5</td>\n",
       "      <td>NaN</td>\n",
       "      <td>NaN</td>\n",
       "      <td>0</td>\n",
       "      <td>50</td>\n",
       "      <td>Southern Asia</td>\n",
       "      <td>India</td>\n",
       "      <td>Jammu and Kashmir</td>\n",
       "      <td>Samba</td>\n",
       "      <td>Samba</td>\n",
       "      <td>Samba</td>\n",
       "      <td>32.5625</td>\n",
       "      <td>75.1199</td>\n",
       "      <td>2</td>\n",
       "      <td>Daily Excelsior</td>\n",
       "      <td>subnational</td>\n",
       "      <td>On 16 Feb, people held demonstrations and burn...</td>\n",
       "      <td>0</td>\n",
       "      <td>1550588555</td>\n",
       "      <td>IND</td>\n",
       "    </tr>\n",
       "    <tr>\n",
       "      <th>3</th>\n",
       "      <td>3090608</td>\n",
       "      <td>356</td>\n",
       "      <td>IND46156</td>\n",
       "      <td>46156</td>\n",
       "      <td>16-Feb-19</td>\n",
       "      <td>2019</td>\n",
       "      <td>1</td>\n",
       "      <td>Riots/Protests</td>\n",
       "      <td>Rioters (India)</td>\n",
       "      <td>NaN</td>\n",
       "      <td>5</td>\n",
       "      <td>NaN</td>\n",
       "      <td>NaN</td>\n",
       "      <td>0</td>\n",
       "      <td>50</td>\n",
       "      <td>Southern Asia</td>\n",
       "      <td>India</td>\n",
       "      <td>Jammu and Kashmir</td>\n",
       "      <td>Reasi</td>\n",
       "      <td>Reasi</td>\n",
       "      <td>Reasi</td>\n",
       "      <td>33.0792</td>\n",
       "      <td>74.8342</td>\n",
       "      <td>2</td>\n",
       "      <td>Daily Excelsior</td>\n",
       "      <td>subnational</td>\n",
       "      <td>On 16 Feb, people held demonstrations and burn...</td>\n",
       "      <td>0</td>\n",
       "      <td>1550588555</td>\n",
       "      <td>IND</td>\n",
       "    </tr>\n",
       "    <tr>\n",
       "      <th>4</th>\n",
       "      <td>3090609</td>\n",
       "      <td>356</td>\n",
       "      <td>IND46157</td>\n",
       "      <td>46157</td>\n",
       "      <td>16-Feb-19</td>\n",
       "      <td>2019</td>\n",
       "      <td>1</td>\n",
       "      <td>Riots/Protests</td>\n",
       "      <td>Rioters (India)</td>\n",
       "      <td>BJP: Bharatiya Janata Party</td>\n",
       "      <td>5</td>\n",
       "      <td>Police Forces of India (2014-)</td>\n",
       "      <td>Civilians (India); TMC: Trinamool Congress Par...</td>\n",
       "      <td>1</td>\n",
       "      <td>15</td>\n",
       "      <td>Southern Asia</td>\n",
       "      <td>India</td>\n",
       "      <td>West Bengal</td>\n",
       "      <td>Birbhum</td>\n",
       "      <td>Labhpur</td>\n",
       "      <td>Labhpur</td>\n",
       "      <td>23.8160</td>\n",
       "      <td>87.7982</td>\n",
       "      <td>1</td>\n",
       "      <td>India Blooms News Service</td>\n",
       "      <td>National</td>\n",
       "      <td>On February 16, locals attacked a TMC MLA and ...</td>\n",
       "      <td>0</td>\n",
       "      <td>1550588555</td>\n",
       "      <td>IND</td>\n",
       "    </tr>\n",
       "  </tbody>\n",
       "</table>\n",
       "</div>"
      ],
      "text/plain": [
       "   data_id  iso event_id_cnty  event_id_no_cnty event_date  year  \\\n",
       "0  3090605  356      IND46153             46153  16-Feb-19  2019   \n",
       "1  3090606  356      IND46154             46154  16-Feb-19  2019   \n",
       "2  3090607  356      IND46155             46155  16-Feb-19  2019   \n",
       "3  3090608  356      IND46156             46156  16-Feb-19  2019   \n",
       "4  3090609  356      IND46157             46157  16-Feb-19  2019   \n",
       "\n",
       "   time_precision                     event_type  \\\n",
       "0               1  Battle-No change of territory   \n",
       "1               1                Remote violence   \n",
       "2               1                 Riots/Protests   \n",
       "3               1                 Riots/Protests   \n",
       "4               1                 Riots/Protests   \n",
       "\n",
       "                             actor1  \\\n",
       "0  Military Forces of India (2014-)   \n",
       "1  Unidentified Armed Group (India)   \n",
       "2                   Rioters (India)   \n",
       "3                   Rioters (India)   \n",
       "4                   Rioters (India)   \n",
       "\n",
       "                                       assoc_actor_1  inter1  \\\n",
       "0  Police Forces of India (2014-) Border Security...       1   \n",
       "1                                                NaN       3   \n",
       "2                                                NaN       5   \n",
       "3                                                NaN       5   \n",
       "4                        BJP: Bharatiya Janata Party       5   \n",
       "\n",
       "                                actor2  \\\n",
       "0  Military Forces of Pakistan (2018-)   \n",
       "1     Military Forces of India (2014-)   \n",
       "2                                  NaN   \n",
       "3                                  NaN   \n",
       "4       Police Forces of India (2014-)   \n",
       "\n",
       "                                       assoc_actor_2  inter2  interaction  \\\n",
       "0                                                NaN       8           18   \n",
       "1                                                NaN       1           13   \n",
       "2                                                NaN       0           50   \n",
       "3                                                NaN       0           50   \n",
       "4  Civilians (India); TMC: Trinamool Congress Par...       1           15   \n",
       "\n",
       "          region country             admin1   admin2    admin3  \\\n",
       "0  Southern Asia   India  Jammu and Kashmir  Rajouri  Naushera   \n",
       "1  Southern Asia   India  Jammu and Kashmir  Rajouri  Naushera   \n",
       "2  Southern Asia   India  Jammu and Kashmir    Samba     Samba   \n",
       "3  Southern Asia   India  Jammu and Kashmir    Reasi     Reasi   \n",
       "4  Southern Asia   India        West Bengal  Birbhum   Labhpur   \n",
       "\n",
       "           location  latitude  longitude  geo_precision  \\\n",
       "0             Kalal   33.3418    74.3889              2   \n",
       "1  Jhangar Dharmsal   33.2705    74.0508              2   \n",
       "2             Samba   32.5625    75.1199              2   \n",
       "3             Reasi   33.0792    74.8342              2   \n",
       "4           Labhpur   23.8160    87.7982              1   \n",
       "\n",
       "                                source source_scale  \\\n",
       "0                   Chandigarh Tribune  Subnational   \n",
       "1  Chandigarh Tribune; Daily Excelsior  Subnational   \n",
       "2                      Daily Excelsior  subnational   \n",
       "3                      Daily Excelsior  subnational   \n",
       "4            India Blooms News Service     National   \n",
       "\n",
       "                                               notes  fatalities   timestamp  \\\n",
       "0  On 16 Feb, Indian and Pakistani forces exchang...           0  1550588555   \n",
       "1  On 16 Feb, an Indian army officer was killed a...           1  1550588555   \n",
       "2  On 16 Feb, people held demonstrations and burn...           0  1550588555   \n",
       "3  On 16 Feb, people held demonstrations and burn...           0  1550588555   \n",
       "4  On February 16, locals attacked a TMC MLA and ...           0  1550588555   \n",
       "\n",
       "  iso3  \n",
       "0  IND  \n",
       "1  IND  \n",
       "2  IND  \n",
       "3  IND  \n",
       "4  IND  "
      ]
     },
     "execution_count": 6,
     "metadata": {},
     "output_type": "execute_result"
    }
   ],
   "source": [
    "data.head()"
   ]
  },
  {
   "cell_type": "code",
   "execution_count": 7,
   "metadata": {},
   "outputs": [
    {
     "data": {
      "text/html": [
       "<div>\n",
       "<style scoped>\n",
       "    .dataframe tbody tr th:only-of-type {\n",
       "        vertical-align: middle;\n",
       "    }\n",
       "\n",
       "    .dataframe tbody tr th {\n",
       "        vertical-align: top;\n",
       "    }\n",
       "\n",
       "    .dataframe thead th {\n",
       "        text-align: right;\n",
       "    }\n",
       "</style>\n",
       "<table border=\"1\" class=\"dataframe\">\n",
       "  <thead>\n",
       "    <tr style=\"text-align: right;\">\n",
       "      <th></th>\n",
       "      <th>inter_code</th>\n",
       "      <th>description</th>\n",
       "    </tr>\n",
       "  </thead>\n",
       "  <tbody>\n",
       "    <tr>\n",
       "      <th>0</th>\n",
       "      <td>0</td>\n",
       "      <td>No actor</td>\n",
       "    </tr>\n",
       "    <tr>\n",
       "      <th>1</th>\n",
       "      <td>1</td>\n",
       "      <td>Government and state security services</td>\n",
       "    </tr>\n",
       "    <tr>\n",
       "      <th>2</th>\n",
       "      <td>2</td>\n",
       "      <td>Rebel Groups</td>\n",
       "    </tr>\n",
       "    <tr>\n",
       "      <th>3</th>\n",
       "      <td>3</td>\n",
       "      <td>Political Militias</td>\n",
       "    </tr>\n",
       "    <tr>\n",
       "      <th>4</th>\n",
       "      <td>4</td>\n",
       "      <td>Identity Militias</td>\n",
       "    </tr>\n",
       "    <tr>\n",
       "      <th>5</th>\n",
       "      <td>5</td>\n",
       "      <td>Rioters</td>\n",
       "    </tr>\n",
       "    <tr>\n",
       "      <th>6</th>\n",
       "      <td>6</td>\n",
       "      <td>Protestors</td>\n",
       "    </tr>\n",
       "    <tr>\n",
       "      <th>7</th>\n",
       "      <td>7</td>\n",
       "      <td>Civilians</td>\n",
       "    </tr>\n",
       "    <tr>\n",
       "      <th>8</th>\n",
       "      <td>8</td>\n",
       "      <td>External/other forces</td>\n",
       "    </tr>\n",
       "  </tbody>\n",
       "</table>\n",
       "</div>"
      ],
      "text/plain": [
       "   inter_code                             description\n",
       "0           0                                No actor\n",
       "1           1  Government and state security services\n",
       "2           2                            Rebel Groups\n",
       "3           3                      Political Militias\n",
       "4           4                       Identity Militias\n",
       "5           5                                 Rioters\n",
       "6           6                              Protestors\n",
       "7           7                               Civilians\n",
       "8           8                   External/other forces"
      ]
     },
     "execution_count": 7,
     "metadata": {},
     "output_type": "execute_result"
    }
   ],
   "source": [
    "inter_codes"
   ]
  },
  {
   "cell_type": "code",
   "execution_count": 8,
   "metadata": {},
   "outputs": [
    {
     "data": {
      "text/html": [
       "<div>\n",
       "<style scoped>\n",
       "    .dataframe tbody tr th:only-of-type {\n",
       "        vertical-align: middle;\n",
       "    }\n",
       "\n",
       "    .dataframe tbody tr th {\n",
       "        vertical-align: top;\n",
       "    }\n",
       "\n",
       "    .dataframe thead th {\n",
       "        text-align: right;\n",
       "    }\n",
       "</style>\n",
       "<table border=\"1\" class=\"dataframe\">\n",
       "  <thead>\n",
       "    <tr style=\"text-align: right;\">\n",
       "      <th></th>\n",
       "      <th>geo_precision_code</th>\n",
       "      <th>precision_level</th>\n",
       "    </tr>\n",
       "  </thead>\n",
       "  <tbody>\n",
       "    <tr>\n",
       "      <th>0</th>\n",
       "      <td>1</td>\n",
       "      <td>highest (exact location)</td>\n",
       "    </tr>\n",
       "    <tr>\n",
       "      <th>1</th>\n",
       "      <td>2</td>\n",
       "      <td>intermediate (regional)</td>\n",
       "    </tr>\n",
       "    <tr>\n",
       "      <th>2</th>\n",
       "      <td>3</td>\n",
       "      <td>lowest (provincial)</td>\n",
       "    </tr>\n",
       "  </tbody>\n",
       "</table>\n",
       "</div>"
      ],
      "text/plain": [
       "   geo_precision_code           precision_level\n",
       "0                   1  highest (exact location)\n",
       "1                   2   intermediate (regional)\n",
       "2                   3       lowest (provincial)"
      ]
     },
     "execution_count": 8,
     "metadata": {},
     "output_type": "execute_result"
    }
   ],
   "source": [
    "geo_precision_codes"
   ]
  },
  {
   "cell_type": "code",
   "execution_count": 9,
   "metadata": {},
   "outputs": [
    {
     "data": {
      "text/html": [
       "<div>\n",
       "<style scoped>\n",
       "    .dataframe tbody tr th:only-of-type {\n",
       "        vertical-align: middle;\n",
       "    }\n",
       "\n",
       "    .dataframe tbody tr th {\n",
       "        vertical-align: top;\n",
       "    }\n",
       "\n",
       "    .dataframe thead th {\n",
       "        text-align: right;\n",
       "    }\n",
       "</style>\n",
       "<table border=\"1\" class=\"dataframe\">\n",
       "  <thead>\n",
       "    <tr style=\"text-align: right;\">\n",
       "      <th></th>\n",
       "      <th>time_precision_code</th>\n",
       "      <th>precision_level</th>\n",
       "    </tr>\n",
       "  </thead>\n",
       "  <tbody>\n",
       "    <tr>\n",
       "      <th>0</th>\n",
       "      <td>1</td>\n",
       "      <td>highest (day)</td>\n",
       "    </tr>\n",
       "    <tr>\n",
       "      <th>1</th>\n",
       "      <td>2</td>\n",
       "      <td>intermediate (week)</td>\n",
       "    </tr>\n",
       "    <tr>\n",
       "      <th>2</th>\n",
       "      <td>3</td>\n",
       "      <td>lowest (month)</td>\n",
       "    </tr>\n",
       "  </tbody>\n",
       "</table>\n",
       "</div>"
      ],
      "text/plain": [
       "   time_precision_code      precision_level\n",
       "0                    1        highest (day)\n",
       "1                    2  intermediate (week)\n",
       "2                    3       lowest (month)"
      ]
     },
     "execution_count": 9,
     "metadata": {},
     "output_type": "execute_result"
    }
   ],
   "source": [
    "time_precision_codes"
   ]
  },
  {
   "cell_type": "code",
   "execution_count": 10,
   "metadata": {},
   "outputs": [
    {
     "name": "stdout",
     "output_type": "stream",
     "text": [
      "<class 'pandas.core.frame.DataFrame'>\n",
      "RangeIndex: 46135 entries, 0 to 46134\n",
      "Data columns (total 30 columns):\n",
      "data_id             46135 non-null int64\n",
      "iso                 46135 non-null int64\n",
      "event_id_cnty       46135 non-null object\n",
      "event_id_no_cnty    46135 non-null int64\n",
      "event_date          46135 non-null object\n",
      "year                46135 non-null int64\n",
      "time_precision      46135 non-null int64\n",
      "event_type          46135 non-null object\n",
      "actor1              46135 non-null object\n",
      "assoc_actor_1       29511 non-null object\n",
      "inter1              46135 non-null int64\n",
      "actor2              12993 non-null object\n",
      "assoc_actor_2       3627 non-null object\n",
      "inter2              46135 non-null int64\n",
      "interaction         46135 non-null int64\n",
      "region              46135 non-null object\n",
      "country             46135 non-null object\n",
      "admin1              46135 non-null object\n",
      "admin2              46124 non-null object\n",
      "admin3              44509 non-null object\n",
      "location            46135 non-null object\n",
      "latitude            46135 non-null float64\n",
      "longitude           46135 non-null float64\n",
      "geo_precision       46135 non-null int64\n",
      "source              46135 non-null object\n",
      "source_scale        46058 non-null object\n",
      "notes               46135 non-null object\n",
      "fatalities          46135 non-null int64\n",
      "timestamp           46135 non-null int64\n",
      "iso3                46135 non-null object\n",
      "dtypes: float64(2), int64(11), object(17)\n",
      "memory usage: 10.6+ MB\n"
     ]
    }
   ],
   "source": [
    "data.info()"
   ]
  },
  {
   "cell_type": "markdown",
   "metadata": {},
   "source": [
    "Look at number of unique elements in each features"
   ]
  },
  {
   "cell_type": "code",
   "execution_count": 11,
   "metadata": {},
   "outputs": [
    {
     "data": {
      "text/plain": [
       "data_id             46135\n",
       "iso                     1\n",
       "event_id_cnty       46135\n",
       "event_id_no_cnty    46135\n",
       "event_date           1143\n",
       "year                    4\n",
       "time_precision          3\n",
       "event_type              8\n",
       "actor1                503\n",
       "assoc_actor_1        1338\n",
       "inter1                  8\n",
       "actor2                257\n",
       "assoc_actor_2         396\n",
       "inter2                  9\n",
       "interaction            40\n",
       "region                  1\n",
       "country                 2\n",
       "admin1                 35\n",
       "admin2                718\n",
       "admin3               2865\n",
       "location             6513\n",
       "latitude             6652\n",
       "longitude            6593\n",
       "geo_precision           4\n",
       "source                788\n",
       "source_scale           19\n",
       "notes               44657\n",
       "fatalities             23\n",
       "timestamp             162\n",
       "iso3                    1\n",
       "dtype: int64"
      ]
     },
     "execution_count": 11,
     "metadata": {},
     "output_type": "execute_result"
    }
   ],
   "source": [
    "unique_count=pd.Series()\n",
    "for column in data.columns:\n",
    "    unique_count[column]=data[column].unique().size\n",
    "unique_count"
   ]
  },
  {
   "cell_type": "markdown",
   "metadata": {},
   "source": [
    "## Cleaning up data\n",
    "### Dropping features\n",
    "First I drop columns with only one kind to data entry."
   ]
  },
  {
   "cell_type": "code",
   "execution_count": 12,
   "metadata": {},
   "outputs": [],
   "source": [
    "for column in unique_count.index:\n",
    "    if unique_count[column]==1:\n",
    "        data.drop(columns=column,inplace=True)"
   ]
  },
  {
   "cell_type": "markdown",
   "metadata": {},
   "source": [
    "Second, I drop features with non-relavant information."
   ]
  },
  {
   "cell_type": "code",
   "execution_count": 13,
   "metadata": {},
   "outputs": [],
   "source": [
    "features_to_drop=['country','data_id','event_id_cnty','event_id_no_cnty','timestamp','year','interaction']\n",
    "Data1=data.drop(columns=features_to_drop)"
   ]
  },
  {
   "cell_type": "markdown",
   "metadata": {},
   "source": [
    "Next, I drop some features with information relavant but redundant. In training the prediction model I decided not to include these feature. "
   ]
  },
  {
   "cell_type": "code",
   "execution_count": 14,
   "metadata": {},
   "outputs": [],
   "source": [
    "Data1.drop(columns=['location','notes','latitude','longitude','admin2','admin3'],inplace=True)"
   ]
  },
  {
   "cell_type": "markdown",
   "metadata": {},
   "source": [
    "### Changing date column to datetime format"
   ]
  },
  {
   "cell_type": "code",
   "execution_count": 15,
   "metadata": {},
   "outputs": [],
   "source": [
    "Data1['event_date_formatted']=pd.to_datetime(Data1['event_date'])\n",
    "Data1.drop(columns='event_date',inplace=True)"
   ]
  },
  {
   "cell_type": "markdown",
   "metadata": {},
   "source": [
    "### Fixing for Null values\n",
    "Columns and number of entries with NULL entries"
   ]
  },
  {
   "cell_type": "code",
   "execution_count": 16,
   "metadata": {},
   "outputs": [
    {
     "data": {
      "text/plain": [
       "assoc_actor_1    16624\n",
       "actor2           33142\n",
       "assoc_actor_2    42508\n",
       "source_scale        77\n",
       "dtype: int64"
      ]
     },
     "execution_count": 16,
     "metadata": {},
     "output_type": "execute_result"
    }
   ],
   "source": [
    "Data1.isnull().sum()[Data1.isnull().sum()>0]"
   ]
  },
  {
   "cell_type": "markdown",
   "metadata": {},
   "source": [
    "First, I fix the NULL data in feature 'source_scale'.\n",
    "\n",
    "The source_scale of the news is related to source of the news, for example newspaper 'The Times of India' is a National Newspaper. So, wherever the source_scale entry is null we look at the source then use the source_scale for that to fill in the missing value."
   ]
  },
  {
   "cell_type": "code",
   "execution_count": 17,
   "metadata": {},
   "outputs": [
    {
     "data": {
      "text/plain": [
       "Telegraph (India)                   National    208\n",
       "Name: source_scale, dtype: int64\n",
       "Sangai Express (India)             Subnational    126\n",
       "National         1\n",
       "Name: so...\n",
       "Times of India                     National       759\n",
       "Subnational      2\n",
       "Name: so...\n",
       "Asian News International           Regional         79\n",
       "International     8\n",
       "Nation...\n",
       "Chandigarh Tribune                 Subnational    710\n",
       "National       153\n",
       "Name: so...\n",
       "Indian Express                     National       1274\n",
       "Subnational       1\n",
       "region...\n",
       "Pioneer (India)                    National       26\n",
       "Subnational     1\n",
       "Name: sour...\n",
       "Hindustan Times (India)            National       273\n",
       "Subnational      1\n",
       "Name: so...\n",
       "Pioneer (India); Times of India       National    1\n",
       "Name: source_scale, dtype: int64\n",
       "dtype: object"
      ]
     },
     "execution_count": 17,
     "metadata": {},
     "output_type": "execute_result"
    }
   ],
   "source": [
    "Source_missing_scale=Data1['source'][Data1.source_scale.isnull()].unique()\n",
    "Source_missing_scale_filllist=pd.Series()\n",
    "for source_name in Source_missing_scale:\n",
    "    Source_missing_scale_filllist[source_name]=Data1[Data1['source']==source_name]['source_scale'].dropna().value_counts()\n",
    "Source_missing_scale_filllist"
   ]
  },
  {
   "cell_type": "code",
   "execution_count": 18,
   "metadata": {},
   "outputs": [],
   "source": [
    "Data1.replace('regional','Regional',inplace=True) \n",
    "for source_item,source_scale_item in zip(Source_missing_scale_filllist.index,Source_missing_scale_filllist):\n",
    "    Index_of_NaN=Data1.loc[Data1['source']==source_item][Data1.source_scale.isnull()].index\n",
    "    Data1.loc[Index_of_NaN,'source_scale']=Source_missing_scale_filllist[source_item].idxmax()"
   ]
  },
  {
   "cell_type": "markdown",
   "metadata": {},
   "source": [
    "Next, We will combine the actor1, actor2, associate actor1 and associate actor2 into one column and drop these columns. This will deal with null values in 'assoc_actor_1', 'actor2', 'assoc_actor_2'."
   ]
  },
  {
   "cell_type": "code",
   "execution_count": 19,
   "metadata": {},
   "outputs": [],
   "source": [
    "Actors=pd.Series(index=Data1.index)\n",
    "Actor2_null_imask=Data1.actor2.notnull()\n",
    "AssoActor1_null_imask=Data1.assoc_actor_1.notnull()\n",
    "AssoActor2_null_imask=Data1.assoc_actor_2.notnull()\n",
    "for idx in Data1.index:\n",
    "    if Actor2_null_imask[idx] and AssoActor1_null_imask[idx] and AssoActor2_null_imask[idx]:\n",
    "        Actors[idx]=[Data1.loc[idx,'actor1'],Data1.loc[idx,'actor2'],Data1.loc[idx,'assoc_actor_1'],Data1.loc[idx,'assoc_actor_2']]\n",
    "    elif Actor2_null_imask[idx] and AssoActor1_null_imask[idx] and not AssoActor2_null_imask[idx]:\n",
    "        Actors[idx]=[Data1.loc[idx,'actor1'],Data1.loc[idx,'actor2'],Data1.loc[idx,'assoc_actor_1']]\n",
    "    elif Actor2_null_imask[idx] and not AssoActor1_null_imask[idx] and AssoActor2_null_imask[idx]:\n",
    "        Actors[idx]=[Data1.loc[idx,'actor1'],Data1.loc[idx,'actor2'],Data1.loc[idx,'assoc_actor_2']]\n",
    "    elif not Actor2_null_imask[idx] and AssoActor1_null_imask[idx] and AssoActor2_null_imask[idx]:\n",
    "        Actors[idx]=[Data1.loc[idx,'actor1'],Data1.loc[idx,'assoc_actor_1'],Data1.loc[idx,'assoc_actor_2']]\n",
    "    elif Actor2_null_imask[idx] and not AssoActor1_null_imask[idx] and not AssoActor2_null_imask[idx]:\n",
    "        Actors[idx]=[Data1.loc[idx,'actor1'],Data1.loc[idx,'actor2']]\n",
    "    elif not Actor2_null_imask[idx] and not AssoActor1_null_imask[idx] and AssoActor2_null_imask[idx]:\n",
    "        Actors[idx]=[Data1.loc[idx,'actor1'],Data1.loc[idx,'assoc_actor_2']]\n",
    "    elif not Actor2_null_imask[idx] and AssoActor1_null_imask[idx] and not AssoActor2_null_imask[idx]:\n",
    "        Actors[idx]=[Data1.loc[idx,'actor1'],Data1.loc[idx,'assoc_actor_1']]\n",
    "    else:\n",
    "        Actors[idx]=Data1.loc[idx,'actor1']\n",
    "Data1=Data1.join(pd.DataFrame(Actors,columns=['Actors']))\n",
    "Data1.drop(columns=['actor1','actor2','assoc_actor_1', 'assoc_actor_2'],inplace=True)"
   ]
  },
  {
   "cell_type": "markdown",
   "metadata": {},
   "source": [
    "### Creating new numerical features\n",
    "To proceed with supervised learning algorithms I created numeric features from features with string entries.\n",
    "\n",
    "Creating new feature of state label. Below is a table to show the state label and the state name."
   ]
  },
  {
   "cell_type": "code",
   "execution_count": 20,
   "metadata": {},
   "outputs": [
    {
     "name": "stdout",
     "output_type": "stream",
     "text": [
      "                     state\n",
      "0        Jammu and Kashmir\n",
      "1              West Bengal\n",
      "2              Maharashtra\n",
      "3                    Assam\n",
      "4                Meghalaya\n",
      "5                   Odisha\n",
      "6              Uttarakhand\n",
      "7                   Punjab\n",
      "8                Telangana\n",
      "9         Himachal Pradesh\n",
      "10           Uttar Pradesh\n",
      "11            NCT of Delhi\n",
      "12          Andhra Pradesh\n",
      "13               Jharkhand\n",
      "14                 Haryana\n",
      "15              Tamil Nadu\n",
      "16     Andaman and Nicobar\n",
      "17                 Manipur\n",
      "18                   Bihar\n",
      "19          Madhya Pradesh\n",
      "20            Chhattisgarh\n",
      "21              Puducherry\n",
      "22                  Kerala\n",
      "23               Karnataka\n",
      "24       Arunachal Pradesh\n",
      "25                     Goa\n",
      "26                 Mizoram\n",
      "27                 Tripura\n",
      "28              Chandigarh\n",
      "29                Nagaland\n",
      "30                 Gujarat\n",
      "31               Rajasthan\n",
      "32                  Sikkim\n",
      "33           Daman and Diu\n",
      "34  Dadra and Nagar Haveli\n"
     ]
    }
   ],
   "source": [
    "States=pd.DataFrame(Data1.admin1.unique(),columns=['state'])\n",
    "print(States)"
   ]
  },
  {
   "cell_type": "code",
   "execution_count": 21,
   "metadata": {},
   "outputs": [],
   "source": [
    "def State_label(state):\n",
    "    for i in range(len(States)):\n",
    "        if state==States.loc[i,'state']:\n",
    "            return i\n",
    "Data1['State_label']=Data1.admin1.apply(State_label)\n",
    "Data1.drop(columns=['admin1'],inplace=True)"
   ]
  },
  {
   "cell_type": "markdown",
   "metadata": {},
   "source": [
    "Creating new feature of Eventype label. Below is a table to show the Eventtype label and the Eventtype."
   ]
  },
  {
   "cell_type": "code",
   "execution_count": 22,
   "metadata": {},
   "outputs": [
    {
     "name": "stdout",
     "output_type": "stream",
     "text": [
      "                                 Event\n",
      "0        Battle-No change of territory\n",
      "1                      Remote violence\n",
      "2                       Riots/Protests\n",
      "3           Violence against civilians\n",
      "4                Strategic development\n",
      "5     Headquarters or base established\n",
      "6    Non-violent transfer of territory\n",
      "7  Battle-Government regains territory\n"
     ]
    }
   ],
   "source": [
    "Events=pd.DataFrame(Data1.event_type.unique(),columns=['Event'])\n",
    "print(Events)"
   ]
  },
  {
   "cell_type": "code",
   "execution_count": 23,
   "metadata": {},
   "outputs": [],
   "source": [
    "def Event_label(event):\n",
    "    for i in range(len(Events)):\n",
    "        if event==Events.loc[i,'Event']:\n",
    "            return i\n",
    "Data1['Event_label']=Data1.event_type.apply(Event_label)\n",
    "Data1.drop(columns=['event_type'],inplace=True)"
   ]
  },
  {
   "cell_type": "markdown",
   "metadata": {},
   "source": [
    "Creating new feature of Month label where 1 is first month in dataset and goes as 1,2,.....37 "
   ]
  },
  {
   "cell_type": "code",
   "execution_count": 24,
   "metadata": {},
   "outputs": [],
   "source": [
    "def month_of(date_formatted):\n",
    "    return date_formatted.month+12*(date_formatted.year-2016)\n",
    "Data1['month']=Data1.event_date_formatted.apply(month_of)\n",
    "Data1.drop(columns=['event_date_formatted'],inplace=True)"
   ]
  },
  {
   "cell_type": "markdown",
   "metadata": {},
   "source": [
    "Creating new feature of Number of actors "
   ]
  },
  {
   "cell_type": "code",
   "execution_count": 25,
   "metadata": {},
   "outputs": [],
   "source": [
    "def No_of_Actors(actors):\n",
    "    if type(actors)==list:\n",
    "        return len(actors)\n",
    "    else:\n",
    "        return 1\n",
    "Data1['No_of_actors']=Data1['Actors'].apply(No_of_Actors)\n",
    "Data1.drop(columns=['Actors'],inplace=True)"
   ]
  },
  {
   "cell_type": "markdown",
   "metadata": {},
   "source": [
    "Creating a new feature that counts the number of sources"
   ]
  },
  {
   "cell_type": "code",
   "execution_count": 26,
   "metadata": {},
   "outputs": [],
   "source": [
    "def Source_Split(datacut):\n",
    "    SourceSplit=datacut.split(\"; \")\n",
    "    return len(SourceSplit)\n",
    "Data1['SourceCount']=Data1.source.apply(Source_Split)\n",
    "Data1.drop(columns='source',inplace=True)"
   ]
  },
  {
   "cell_type": "markdown",
   "metadata": {},
   "source": [
    "Convert source_scale into two type of columns which contains a source_scale numeric label and since each entry has at max two types of source_scale with make two columns. Below we show the label for source_scale and source_scale"
   ]
  },
  {
   "cell_type": "code",
   "execution_count": 27,
   "metadata": {},
   "outputs": [
    {
     "name": "stdout",
     "output_type": "stream",
     "text": [
      "    source_scale\n",
      "0    Subnational\n",
      "1    subnational\n",
      "2       National\n",
      "3       Regional\n",
      "4          Other\n",
      "5  International\n",
      "6              0\n"
     ]
    }
   ],
   "source": [
    "def Source_scale_Split(datacut):\n",
    "    SourceScaleSplit=datacut.split(\"-\")\n",
    "    return SourceScaleSplit\n",
    "Data1['source_scale']=Data1.source_scale.apply(Source_scale_Split)\n",
    "Source_Scale_columns=Data1.source_scale.apply(pd.Series).fillna(0)\n",
    "Source_Scale_columns=Source_Scale_columns.rename(columns={0:\"Source_scale1\",1:\"Source_scale2\"})\n",
    "SourceScaleList=Source_Scale_columns.Source_scale1.append(Source_Scale_columns.Source_scale2[Source_Scale_columns.Source_scale2.notnull()])\n",
    "S_scale=pd.DataFrame(SourceScaleList.unique(),columns=['source_scale'])\n",
    "print(S_scale)"
   ]
  },
  {
   "cell_type": "code",
   "execution_count": 28,
   "metadata": {},
   "outputs": [],
   "source": [
    "def SourceScale_label(ss):\n",
    "    for i in range(len(S_scale)):\n",
    "        if ss==S_scale.loc[i,'source_scale']:\n",
    "            return i+1\n",
    "        if ss==0:\n",
    "            return 0\n",
    "Source_Scale_columns.Source_scale2=Source_Scale_columns.Source_scale2.apply(SourceScale_label)\n",
    "Source_Scale_columns.Source_scale1=Source_Scale_columns.Source_scale1.apply(SourceScale_label)\n",
    "Data1=pd.concat([Data1[:],Source_Scale_columns[:]],axis=1)\n",
    "Data1.drop(columns=['source_scale'],inplace=True)"
   ]
  },
  {
   "cell_type": "markdown",
   "metadata": {},
   "source": [
    "Next, we look at the feature that shows number of fatalities "
   ]
  },
  {
   "cell_type": "code",
   "execution_count": 29,
   "metadata": {},
   "outputs": [
    {
     "data": {
      "text/plain": [
       "Text(0, 0.5, 'Frequency')"
      ]
     },
     "execution_count": 29,
     "metadata": {},
     "output_type": "execute_result"
    },
    {
     "data": {
      "image/png": "[encoded data removed]",
      "text/plain": [
       "<Figure size 432x288 with 1 Axes>"
      ]
     },
     "metadata": {
      "needs_background": "light"
     },
     "output_type": "display_data"
    }
   ],
   "source": [
    "Hist=Data1.fatalities.hist(bins=max(Data1.fatalities),range=[1,max(Data1.fatalities)])\n",
    "plt.xlabel('fatalities')\n",
    "plt.ylabel('Frequency')"
   ]
  },
  {
   "cell_type": "markdown",
   "metadata": {},
   "source": [
    "What we can see here that number of non-fatal events is significantly higher than fatal events. Also, events with >5 fatalities is even lower. So, we create new feature called 'Fatality_Label'.\n",
    "\n",
    "0 for non-fatal event; \n",
    "\n",
    "1 for low fatality event; \n",
    "\n",
    "2 for high fatality event "
   ]
  },
  {
   "cell_type": "code",
   "execution_count": 30,
   "metadata": {},
   "outputs": [],
   "source": [
    "def fatal_label(fatal_count):\n",
    "    if fatal_count==0:\n",
    "        return 0\n",
    "    elif fatal_count>5:\n",
    "        return 2\n",
    "    else:\n",
    "        return 1\n",
    "Data1['Fatality_Label']=Data1.fatalities.apply(fatal_label)\n",
    "Data1.drop(columns=['fatalities'],inplace=True)"
   ]
  },
  {
   "cell_type": "markdown",
   "metadata": {},
   "source": [
    "Count of events with different fatality label to give us an idea about the **level of fatalities** in all events."
   ]
  },
  {
   "cell_type": "code",
   "execution_count": 31,
   "metadata": {},
   "outputs": [
    {
     "data": {
      "text/plain": [
       "0    43839\n",
       "1     2210\n",
       "2       86\n",
       "Name: Fatality_Label, dtype: int64"
      ]
     },
     "execution_count": 31,
     "metadata": {},
     "output_type": "execute_result"
    }
   ],
   "source": [
    "Data1['Fatality_Label'].value_counts()"
   ]
  },
  {
   "cell_type": "markdown",
   "metadata": {},
   "source": [
    "I further remove feature 'Source_scale2' after going over model evaluation and found that its removal made prediction better."
   ]
  },
  {
   "cell_type": "code",
   "execution_count": 32,
   "metadata": {},
   "outputs": [],
   "source": [
    "Data1.drop(columns=['Source_scale2'],inplace=True)"
   ]
  },
  {
   "cell_type": "markdown",
   "metadata": {},
   "source": [
    "### Final DataFrame that we want to use for training"
   ]
  },
  {
   "cell_type": "code",
   "execution_count": 33,
   "metadata": {},
   "outputs": [
    {
     "data": {
      "text/html": [
       "<div>\n",
       "<style scoped>\n",
       "    .dataframe tbody tr th:only-of-type {\n",
       "        vertical-align: middle;\n",
       "    }\n",
       "\n",
       "    .dataframe tbody tr th {\n",
       "        vertical-align: top;\n",
       "    }\n",
       "\n",
       "    .dataframe thead th {\n",
       "        text-align: right;\n",
       "    }\n",
       "</style>\n",
       "<table border=\"1\" class=\"dataframe\">\n",
       "  <thead>\n",
       "    <tr style=\"text-align: right;\">\n",
       "      <th></th>\n",
       "      <th>time_precision</th>\n",
       "      <th>inter1</th>\n",
       "      <th>inter2</th>\n",
       "      <th>geo_precision</th>\n",
       "      <th>State_label</th>\n",
       "      <th>Event_label</th>\n",
       "      <th>month</th>\n",
       "      <th>No_of_actors</th>\n",
       "      <th>SourceCount</th>\n",
       "      <th>Source_scale1</th>\n",
       "      <th>Fatality_Label</th>\n",
       "    </tr>\n",
       "  </thead>\n",
       "  <tbody>\n",
       "    <tr>\n",
       "      <th>0</th>\n",
       "      <td>1</td>\n",
       "      <td>1</td>\n",
       "      <td>8</td>\n",
       "      <td>2</td>\n",
       "      <td>0</td>\n",
       "      <td>0</td>\n",
       "      <td>38</td>\n",
       "      <td>3</td>\n",
       "      <td>1</td>\n",
       "      <td>1</td>\n",
       "      <td>0</td>\n",
       "    </tr>\n",
       "    <tr>\n",
       "      <th>1</th>\n",
       "      <td>1</td>\n",
       "      <td>3</td>\n",
       "      <td>1</td>\n",
       "      <td>2</td>\n",
       "      <td>0</td>\n",
       "      <td>1</td>\n",
       "      <td>38</td>\n",
       "      <td>2</td>\n",
       "      <td>2</td>\n",
       "      <td>1</td>\n",
       "      <td>1</td>\n",
       "    </tr>\n",
       "    <tr>\n",
       "      <th>2</th>\n",
       "      <td>1</td>\n",
       "      <td>5</td>\n",
       "      <td>0</td>\n",
       "      <td>2</td>\n",
       "      <td>0</td>\n",
       "      <td>2</td>\n",
       "      <td>38</td>\n",
       "      <td>1</td>\n",
       "      <td>1</td>\n",
       "      <td>2</td>\n",
       "      <td>0</td>\n",
       "    </tr>\n",
       "    <tr>\n",
       "      <th>3</th>\n",
       "      <td>1</td>\n",
       "      <td>5</td>\n",
       "      <td>0</td>\n",
       "      <td>2</td>\n",
       "      <td>0</td>\n",
       "      <td>2</td>\n",
       "      <td>38</td>\n",
       "      <td>1</td>\n",
       "      <td>1</td>\n",
       "      <td>2</td>\n",
       "      <td>0</td>\n",
       "    </tr>\n",
       "    <tr>\n",
       "      <th>4</th>\n",
       "      <td>1</td>\n",
       "      <td>5</td>\n",
       "      <td>1</td>\n",
       "      <td>1</td>\n",
       "      <td>1</td>\n",
       "      <td>2</td>\n",
       "      <td>38</td>\n",
       "      <td>4</td>\n",
       "      <td>1</td>\n",
       "      <td>3</td>\n",
       "      <td>0</td>\n",
       "    </tr>\n",
       "  </tbody>\n",
       "</table>\n",
       "</div>"
      ],
      "text/plain": [
       "   time_precision  inter1  inter2  geo_precision  State_label  Event_label  \\\n",
       "0               1       1       8              2            0            0   \n",
       "1               1       3       1              2            0            1   \n",
       "2               1       5       0              2            0            2   \n",
       "3               1       5       0              2            0            2   \n",
       "4               1       5       1              1            1            2   \n",
       "\n",
       "   month  No_of_actors  SourceCount  Source_scale1  Fatality_Label  \n",
       "0     38             3            1              1               0  \n",
       "1     38             2            2              1               1  \n",
       "2     38             1            1              2               0  \n",
       "3     38             1            1              2               0  \n",
       "4     38             4            1              3               0  "
      ]
     },
     "execution_count": 33,
     "metadata": {},
     "output_type": "execute_result"
    }
   ],
   "source": [
    "Data1.head()"
   ]
  },
  {
   "cell_type": "markdown",
   "metadata": {},
   "source": [
    "## Exploratory analysis"
   ]
  },
  {
   "cell_type": "code",
   "execution_count": 34,
   "metadata": {},
   "outputs": [
    {
     "data": {
      "image/png": "[encoded data removed]",
      "text/plain": [
       "<Figure size 1080x576 with 3 Axes>"
      ]
     },
     "metadata": {
      "needs_background": "light"
     },
     "output_type": "display_data"
    }
   ],
   "source": [
    "Month_hist=pd.crosstab(Data1.month,Data1.Fatality_Label)\n",
    "fig, axs=plt.subplots(nrows=3, figsize=(15,8))\n",
    "for i in range(3):\n",
    "    Month_hist[i].plot.bar(ax=axs[i])\n",
    "    if i==0:\n",
    "        axs[i].set_title('Non-Fatal events') \n",
    "    elif i==1:\n",
    "        axs[i].set_title('Low-Fatality events <5') \n",
    "        axs[i].set_ylabel('Frequency')\n",
    "    else:\n",
    "        axs[i].set_title('High-Fatality events >5') \n",
    "    if i!=2:\n",
    "        axs[i].get_xaxis().set_ticks([])\n",
    "        axs[i].set_xlabel(None)"
   ]
  },
  {
   "cell_type": "code",
   "execution_count": 35,
   "metadata": {},
   "outputs": [
    {
     "data": {
      "image/png": "[encoded data removed]",
      "text/plain": [
       "<Figure size 1080x576 with 3 Axes>"
      ]
     },
     "metadata": {
      "needs_background": "light"
     },
     "output_type": "display_data"
    }
   ],
   "source": [
    "State_hist=pd.crosstab(Data1.State_label,Data1.Fatality_Label)\n",
    "fig, axs=plt.subplots(nrows=3, figsize=(15,8))\n",
    "for i in range(3):\n",
    "    State_hist[i].plot.bar(ax=axs[i])\n",
    "    if i==0:\n",
    "        axs[i].set_title('Non-Fatal events') \n",
    "    elif i==1:\n",
    "        axs[i].set_title('Low-Fatality events <5') \n",
    "        axs[i].set_ylabel('Frequency')\n",
    "    else:\n",
    "        axs[i].set_title('High-Fatality events >5') \n",
    "    if i!=2:\n",
    "        axs[i].get_xaxis().set_ticks([])\n",
    "        axs[i].set_xlabel(None)\n",
    "    else:\n",
    "        axs[i].set_xticklabels(list(States.state))"
   ]
  },
  {
   "cell_type": "code",
   "execution_count": 36,
   "metadata": {},
   "outputs": [
    {
     "data": {
      "image/png": "[encoded data removed]",
      "text/plain": [
       "<Figure size 1224x360 with 6 Axes>"
      ]
     },
     "metadata": {
      "needs_background": "light"
     },
     "output_type": "display_data"
    }
   ],
   "source": [
    "fig, axs=plt.subplots(ncols=3, figsize=(17,5))\n",
    "for i in range(3):\n",
    "    plt.subplot(131+i)\n",
    "    Inter1_2=Data1.loc[Data1.Fatality_Label==i,['inter1','inter2']]\n",
    "    sns.heatmap(pd.crosstab(Inter1_2.inter1,Inter1_2.inter2),cmap='jet')\n",
    "    if i==0:\n",
    "        plt.title('Non-Fatal events') \n",
    "        plt.ylabel('Interacting Actor #1')\n",
    "        plt.xlabel('')\n",
    "        plt.yticks(np.arange(0.5,9.5),list(inter_codes.description)[1:],rotation='horizontal')\n",
    "        #plt.xticks(np.arange(9),list(inter_codes.description),rotation='vertical')\n",
    "    elif i==1:\n",
    "        plt.title('Low-Fatality events <5') \n",
    "        plt.xlabel('Interacting Actor #2')\n",
    "        plt.ylabel('')\n",
    "        plt.yticks([])\n",
    "        plt.xticks(np.arange(0.5,10.5),list(inter_codes.description),rotation='vertical')\n",
    "    else:\n",
    "        plt.title('High-Fatality events >5')\n",
    "        plt.xlabel('')\n",
    "        plt.ylabel('')\n",
    "        plt.yticks([])\n",
    "        #plt.xticks(np.arange(9),list(inter_codes.description),rotation='vertical')"
   ]
  },
  {
   "cell_type": "code",
   "execution_count": 37,
   "metadata": {},
   "outputs": [
    {
     "name": "stdout",
     "output_type": "stream",
     "text": [
      "Number of rows: Training data= 25649\n",
      "Number of rows: Validation data= 10064\n",
      "Number of rows: Test data= 10422\n"
     ]
    }
   ],
   "source": [
    "def Valid_range_check(mon):\n",
    "        if mon>24 and mon<=32:\n",
    "            return True\n",
    "        else:\n",
    "            return False\n",
    "#splitting data into training, validation and test\n",
    "#training: month 1 to 24 #validation: month 25 to 30 #test: month 33 to 37\n",
    "Train_data_imask=Data1.month<=24\n",
    "Valid_data_imask=Data1.month.apply(Valid_range_check)\n",
    "Test_data_imask=Data1.month>32\n",
    "print('Number of rows: Training data=',sum(Train_data_imask))\n",
    "print('Number of rows: Validation data=',sum(Valid_data_imask))\n",
    "print('Number of rows: Test data=',sum(Test_data_imask))\n",
    "Train_data=Data1[Train_data_imask]\n",
    "Valid_data=Data1[Valid_data_imask]\n",
    "Test_data=Data1[Test_data_imask]"
   ]
  },
  {
   "cell_type": "code",
   "execution_count": 38,
   "metadata": {},
   "outputs": [],
   "source": [
    "X_train=Train_data.drop(['Fatality_Label'],axis=1)\n",
    "Y_train=Train_data['Fatality_Label']\n",
    "X_Valid=Valid_data.drop(\"Fatality_Label\", axis=1)\n",
    "Y_Valid=Valid_data['Fatality_Label']\n",
    "X_test=Test_data.drop(\"Fatality_Label\", axis=1)\n",
    "Y_test=Test_data['Fatality_Label']"
   ]
  },
  {
   "cell_type": "code",
   "execution_count": 39,
   "metadata": {},
   "outputs": [],
   "source": [
    "def SupervisedLearning(X_t,Y_t,X_V,Y_V):\n",
    "    # Logistic Regression\n",
    "    logreg=LogisticRegression(solver=\"newton-cg\",multi_class='multinomial')\n",
    "    logreg.fit(X_t,Y_t)\n",
    "    Y_pred_log=logreg.predict(X_V)\n",
    "    R2_log=round(logreg.score(X_t,Y_t)*100,2)\n",
    "    RMSE_log=mean_squared_error(Y_V, Y_pred_log)\n",
    "    Acc_log=accuracy_score(Y_V, Y_pred_log)\n",
    "    Acc_fatal_log=accuracy_score(Y_V[Y_V>0],Y_pred_log[Y_V>0])\n",
    "    # Decision Tree Classifier\n",
    "    decision_tree=DecisionTreeClassifier()\n",
    "    decision_tree.fit(X_t,Y_t)\n",
    "    Y_pred_dt=decision_tree.predict(X_V)\n",
    "    R2_decision_tree=round(decision_tree.score(X_t,Y_t)*100,2)\n",
    "    RMSE_decision_tree=mean_squared_error(Y_V, Y_pred_dt)\n",
    "    Acc_decision_tree=accuracy_score(Y_V, Y_pred_dt)\n",
    "    Acc_fatal_decision_tree=accuracy_score(Y_V[Y_V>0],Y_pred_dt[Y_V>0])\n",
    "    #Random Forest Classifier\n",
    "    random_forest=RandomForestClassifier(n_estimators=100,random_state=123)\n",
    "    random_forest.fit(X_t,Y_t)\n",
    "    Y_pred_rf=random_forest.predict(X_V)\n",
    "    R2_random_forest=round(random_forest.score(X_t,Y_t)*100,2)\n",
    "    RMSE_random_forest=mean_squared_error(Y_V, Y_pred_rf)\n",
    "    Acc_random_forest=accuracy_score(Y_V, Y_pred_rf)\n",
    "    Acc_fatal_random_forest=accuracy_score(Y_V[Y_V>0],Y_pred_rf[Y_V>0])\n",
    "    # Gaussian Naive Bayes \n",
    "    gaussian= GaussianNB()\n",
    "    gaussian.fit(X_t,Y_t)\n",
    "    Y_pred_gaus=gaussian.predict(X_V)\n",
    "    R2_gaus=round(gaussian.score(X_t,Y_t)*100,2)\n",
    "    RMSE_gaus=mean_squared_error(Y_V, Y_pred_gaus)\n",
    "    Acc_gaus=accuracy_score(Y_V, Y_pred_gaus)\n",
    "    Acc_fatal_gaus=accuracy_score(Y_V[Y_V>0],Y_pred_gaus[Y_V>0])\n",
    "    # Linear Support Vector Machines\n",
    "    linear_SVC=LinearSVC(max_iter=100,random_state=123)\n",
    "    linear_SVC.fit(X_t,Y_t)\n",
    "    Y_pred_svc=linear_SVC.predict(X_V)\n",
    "    R2_linear_svc=round(linear_SVC.score(X_t,Y_t)*100,2)\n",
    "    RMSE_linear_svc=mean_squared_error(Y_V, Y_pred_svc)\n",
    "    Acc_linear_svc=accuracy_score(Y_V, Y_pred_svc)\n",
    "    Acc_fatal_linear_svc=accuracy_score(Y_V[Y_V>0],Y_pred_svc[Y_V>0])\n",
    "    # K-nearest neighbor\n",
    "    Knn=KNeighborsClassifier(n_neighbors=4)\n",
    "    Knn.fit(X_t,Y_t)\n",
    "    Y_pred_knn=Knn.predict(X_V)\n",
    "    R2_knn=round(Knn.score(X_t,Y_t)*100,2)\n",
    "    RMSE_knn=mean_squared_error(Y_V, Y_pred_knn)\n",
    "    Acc_knn=accuracy_score(Y_V, Y_pred_knn)\n",
    "    Acc_fatal_knn=accuracy_score(Y_V[Y_V>0],Y_pred_knn[Y_V>0])\n",
    "    # Stochastic Gradient descent \n",
    "    SGD= SGDClassifier(random_state=123)\n",
    "    SGD.fit(X_t,Y_t)\n",
    "    Y_pred_sdg=SGD.predict(X_V)\n",
    "    R2_sdg=round(SGD.score(X_t,Y_t)*100,2)\n",
    "    RMSE_sdg=mean_squared_error(Y_V, Y_pred_sdg)\n",
    "    Acc_sdg=accuracy_score(Y_V, Y_pred_sdg)\n",
    "    Acc_fatal_sdg=accuracy_score(Y_V[Y_V>0],Y_pred_sdg[Y_V>0])\n",
    "    # AdaBoostClassifier uses adaptive Boosting classification \n",
    "    ABC=AdaBoostClassifier(base_estimator=RandomForestClassifier(n_estimators=10),learning_rate=0.1,random_state=123)\n",
    "    ABC.fit(X_t,Y_t)\n",
    "    Y_pred_ABC=ABC.predict(X_V)\n",
    "    R2_ABC=round(ABC.score(X_t,Y_t)*100,2)\n",
    "    RMSE_ABC=mean_squared_error(Y_V, Y_pred_ABC)\n",
    "    Acc_ABC=accuracy_score(Y_V, Y_pred_ABC)\n",
    "    Acc_fatal_ABC=accuracy_score(Y_V[Y_V>0],Y_pred_ABC[Y_V>0])\n",
    "    XGBmodel=XGBClassifier(seed=1,learning_rate=0.1,n_estimators=100)\n",
    "    XGBmodel.fit(X_t,Y_t)\n",
    "    Y_pred_XGB=XGBmodel.predict(X_V)\n",
    "    R2_XGBmodel=round(XGBmodel.score(X_t,Y_t)*100,2)\n",
    "    RMSE_XGBmodel=mean_squared_error(Y_V, Y_pred_XGB)\n",
    "    Acc_XGBmodel=accuracy_score(Y_V, Y_pred_XGB)\n",
    "    Acc_fatal_XGBmodel=accuracy_score(Y_V[Y_V>0],Y_pred_XGB[Y_V>0])\n",
    "    # Model Validation score dataframe\n",
    "    Model_Validation = pd.DataFrame({\n",
    "        'Model': ['Logistic Regression','DecisionTreeClassifier','RandomForestClassifier',\n",
    "                  'Gaussian Naive Bayes','Linear support vector machines','K-nearest neighbor',\n",
    "                  'Stochastic Gradient descent','AdaBoost','XG Boost'],\n",
    "        'R2 Score': [R2_log,R2_decision_tree,R2_random_forest,R2_gaus,R2_linear_svc,R2_knn,R2_sdg,R2_ABC,R2_XGBmodel],\n",
    "        'RMSE score':[RMSE_log,RMSE_decision_tree,RMSE_random_forest,RMSE_gaus,RMSE_linear_svc,RMSE_knn,\n",
    "                      RMSE_sdg,RMSE_ABC,RMSE_XGBmodel],\n",
    "        'Accuracy score':[Acc_log,Acc_decision_tree,Acc_random_forest,Acc_gaus,Acc_linear_svc,Acc_knn,\n",
    "                          Acc_sdg,Acc_ABC,Acc_XGBmodel],\n",
    "        'Accuracy score (Fatal events)':[Acc_fatal_log,Acc_fatal_decision_tree,Acc_fatal_random_forest,Acc_fatal_gaus,\n",
    "                                         Acc_fatal_linear_svc,Acc_fatal_knn,Acc_fatal_sdg,Acc_fatal_ABC,Acc_fatal_XGBmodel]})\n",
    "    return Model_Validation"
   ]
  },
  {
   "cell_type": "code",
   "execution_count": 40,
   "metadata": {},
   "outputs": [
    {
     "data": {
      "text/html": [
       "<div>\n",
       "<style scoped>\n",
       "    .dataframe tbody tr th:only-of-type {\n",
       "        vertical-align: middle;\n",
       "    }\n",
       "\n",
       "    .dataframe tbody tr th {\n",
       "        vertical-align: top;\n",
       "    }\n",
       "\n",
       "    .dataframe thead th {\n",
       "        text-align: right;\n",
       "    }\n",
       "</style>\n",
       "<table border=\"1\" class=\"dataframe\">\n",
       "  <thead>\n",
       "    <tr style=\"text-align: right;\">\n",
       "      <th></th>\n",
       "      <th>Model</th>\n",
       "      <th>R2 Score</th>\n",
       "      <th>RMSE score</th>\n",
       "      <th>Accuracy score</th>\n",
       "      <th>Accuracy score (Fatal events)</th>\n",
       "    </tr>\n",
       "  </thead>\n",
       "  <tbody>\n",
       "    <tr>\n",
       "      <th>1</th>\n",
       "      <td>DecisionTreeClassifier</td>\n",
       "      <td>98.86</td>\n",
       "      <td>0.067568</td>\n",
       "      <td>0.934221</td>\n",
       "      <td>0.519573</td>\n",
       "    </tr>\n",
       "    <tr>\n",
       "      <th>2</th>\n",
       "      <td>RandomForestClassifier</td>\n",
       "      <td>98.86</td>\n",
       "      <td>0.066176</td>\n",
       "      <td>0.938295</td>\n",
       "      <td>0.503559</td>\n",
       "    </tr>\n",
       "    <tr>\n",
       "      <th>7</th>\n",
       "      <td>AdaBoost</td>\n",
       "      <td>98.86</td>\n",
       "      <td>0.067071</td>\n",
       "      <td>0.937699</td>\n",
       "      <td>0.492883</td>\n",
       "    </tr>\n",
       "    <tr>\n",
       "      <th>3</th>\n",
       "      <td>Gaussian Naive Bayes</td>\n",
       "      <td>90.00</td>\n",
       "      <td>0.308227</td>\n",
       "      <td>0.866157</td>\n",
       "      <td>0.469751</td>\n",
       "    </tr>\n",
       "    <tr>\n",
       "      <th>8</th>\n",
       "      <td>XG Boost</td>\n",
       "      <td>96.51</td>\n",
       "      <td>0.053955</td>\n",
       "      <td>0.948132</td>\n",
       "      <td>0.329181</td>\n",
       "    </tr>\n",
       "    <tr>\n",
       "      <th>5</th>\n",
       "      <td>K-nearest neighbor</td>\n",
       "      <td>96.88</td>\n",
       "      <td>0.052365</td>\n",
       "      <td>0.949424</td>\n",
       "      <td>0.295374</td>\n",
       "    </tr>\n",
       "    <tr>\n",
       "      <th>0</th>\n",
       "      <td>Logistic Regression</td>\n",
       "      <td>95.00</td>\n",
       "      <td>0.066276</td>\n",
       "      <td>0.937897</td>\n",
       "      <td>0.115658</td>\n",
       "    </tr>\n",
       "    <tr>\n",
       "      <th>4</th>\n",
       "      <td>Linear support vector machines</td>\n",
       "      <td>95.06</td>\n",
       "      <td>0.064984</td>\n",
       "      <td>0.939189</td>\n",
       "      <td>0.074733</td>\n",
       "    </tr>\n",
       "    <tr>\n",
       "      <th>6</th>\n",
       "      <td>Stochastic Gradient descent</td>\n",
       "      <td>95.21</td>\n",
       "      <td>0.059718</td>\n",
       "      <td>0.945350</td>\n",
       "      <td>0.028470</td>\n",
       "    </tr>\n",
       "  </tbody>\n",
       "</table>\n",
       "</div>"
      ],
      "text/plain": [
       "                            Model  R2 Score  RMSE score  Accuracy score  \\\n",
       "1          DecisionTreeClassifier     98.86    0.067568        0.934221   \n",
       "2          RandomForestClassifier     98.86    0.066176        0.938295   \n",
       "7                        AdaBoost     98.86    0.067071        0.937699   \n",
       "3            Gaussian Naive Bayes     90.00    0.308227        0.866157   \n",
       "8                        XG Boost     96.51    0.053955        0.948132   \n",
       "5              K-nearest neighbor     96.88    0.052365        0.949424   \n",
       "0             Logistic Regression     95.00    0.066276        0.937897   \n",
       "4  Linear support vector machines     95.06    0.064984        0.939189   \n",
       "6     Stochastic Gradient descent     95.21    0.059718        0.945350   \n",
       "\n",
       "   Accuracy score (Fatal events)  \n",
       "1                       0.519573  \n",
       "2                       0.503559  \n",
       "7                       0.492883  \n",
       "3                       0.469751  \n",
       "8                       0.329181  \n",
       "5                       0.295374  \n",
       "0                       0.115658  \n",
       "4                       0.074733  \n",
       "6                       0.028470  "
      ]
     },
     "execution_count": 40,
     "metadata": {},
     "output_type": "execute_result"
    }
   ],
   "source": [
    "ValidScore=SupervisedLearning(X_train,Y_train,X_Valid,Y_Valid)\n",
    "ValidScore.sort_values(by='Accuracy score (Fatal events)', ascending=False)"
   ]
  },
  {
   "cell_type": "code",
   "execution_count": 41,
   "metadata": {},
   "outputs": [
    {
     "name": "stdout",
     "output_type": "stream",
     "text": [
      "Random Forest Classifier based prediction for the month of October 2018 -Feb 2019\n",
      "Root mean square error 0.05094991364421416\n",
      "Accuracy 0.9490500863557858\n",
      "Accuracy (Fatal events) 0.5087378640776699\n"
     ]
    }
   ],
   "source": [
    "# Best RMSE and Accuracy score for Random Forest Classifier\n",
    "# We use that for fitting test data\n",
    "random_forest=RandomForestClassifier(n_estimators=100)\n",
    "random_forest.fit(X_train,Y_train)\n",
    "Y_testpred=random_forest.predict(X_test)\n",
    "RMSE_test=mean_squared_error(Y_test, Y_testpred)\n",
    "Acc_test=accuracy_score(Y_test, Y_testpred)\n",
    "Acc_fatal_test=accuracy_score(Y_test[Y_test>0],Y_testpred[Y_test>0])\n",
    "print('Random Forest Classifier based prediction for the month of October 2018 -Feb 2019')\n",
    "print('Root mean square error',RMSE_test)\n",
    "print('Accuracy',Acc_test)\n",
    "print('Accuracy (Fatal events)',Acc_fatal_test)"
   ]
  },
  {
   "cell_type": "code",
   "execution_count": 42,
   "metadata": {},
   "outputs": [],
   "source": [
    "# Eventhough the accuracy is high but the the accuracy for events that actually lead to fatalities have bad accuracy\n",
    "# We want to fix that and deal with the unbalanced dataset for the three classes we are trying to predict\n",
    "# Technique#1. Up-sample Minority Class\n",
    "from sklearn.utils import resample\n",
    "df_fatal0=Train_data[Train_data.Fatality_Label==0]\n",
    "df_fatal1=Train_data[Train_data.Fatality_Label==1]\n",
    "df_fatal2=Train_data[Train_data.Fatality_Label==2]"
   ]
  },
  {
   "cell_type": "code",
   "execution_count": 43,
   "metadata": {},
   "outputs": [],
   "source": [
    "# Upsample Class Fatality_Label=1\n",
    "df_fatal1_upsampled = resample(df_fatal1, \n",
    "                                 replace=True,     # sample with replacement\n",
    "                                 n_samples=Data1['Fatality_Label'].value_counts()[0],# to match Class Fatality_Label=0\n",
    "                                 random_state=123) # reproducible results\n",
    "# Upsample Class Fatality_Label=2\n",
    "df_fatal2_upsampled = resample(df_fatal2, \n",
    "                                 replace=True,     # sample with replacement\n",
    "                                 n_samples=Data1['Fatality_Label'].value_counts()[0],# to match Class Fatality_Label=0\n",
    "                                 random_state=123) # reproducible results\n",
    "# Combine majority class with upsampled minority class\n",
    "Train_data_upsampled = pd.concat([df_fatal0, df_fatal1_upsampled,df_fatal2_upsampled])\n",
    "X_train_upsampled=Train_data_upsampled.drop(['Fatality_Label'],axis=1)\n",
    "Y_train_upsampled=Train_data_upsampled['Fatality_Label']"
   ]
  },
  {
   "cell_type": "code",
   "execution_count": 44,
   "metadata": {},
   "outputs": [
    {
     "data": {
      "text/html": [
       "<div>\n",
       "<style scoped>\n",
       "    .dataframe tbody tr th:only-of-type {\n",
       "        vertical-align: middle;\n",
       "    }\n",
       "\n",
       "    .dataframe tbody tr th {\n",
       "        vertical-align: top;\n",
       "    }\n",
       "\n",
       "    .dataframe thead th {\n",
       "        text-align: right;\n",
       "    }\n",
       "</style>\n",
       "<table border=\"1\" class=\"dataframe\">\n",
       "  <thead>\n",
       "    <tr style=\"text-align: right;\">\n",
       "      <th></th>\n",
       "      <th>Model</th>\n",
       "      <th>R2 Score</th>\n",
       "      <th>RMSE score</th>\n",
       "      <th>Accuracy score</th>\n",
       "      <th>Accuracy score (Fatal events)</th>\n",
       "    </tr>\n",
       "  </thead>\n",
       "  <tbody>\n",
       "    <tr>\n",
       "      <th>6</th>\n",
       "      <td>Stochastic Gradient descent</td>\n",
       "      <td>42.24</td>\n",
       "      <td>0.919913</td>\n",
       "      <td>0.080087</td>\n",
       "      <td>0.955516</td>\n",
       "    </tr>\n",
       "    <tr>\n",
       "      <th>8</th>\n",
       "      <td>XG Boost</td>\n",
       "      <td>86.83</td>\n",
       "      <td>0.161566</td>\n",
       "      <td>0.890302</td>\n",
       "      <td>0.786477</td>\n",
       "    </tr>\n",
       "    <tr>\n",
       "      <th>0</th>\n",
       "      <td>Logistic Regression</td>\n",
       "      <td>71.33</td>\n",
       "      <td>0.196045</td>\n",
       "      <td>0.848072</td>\n",
       "      <td>0.713523</td>\n",
       "    </tr>\n",
       "    <tr>\n",
       "      <th>2</th>\n",
       "      <td>RandomForestClassifier</td>\n",
       "      <td>97.86</td>\n",
       "      <td>0.081280</td>\n",
       "      <td>0.929452</td>\n",
       "      <td>0.610320</td>\n",
       "    </tr>\n",
       "    <tr>\n",
       "      <th>5</th>\n",
       "      <td>K-nearest neighbor</td>\n",
       "      <td>96.71</td>\n",
       "      <td>0.097178</td>\n",
       "      <td>0.917727</td>\n",
       "      <td>0.596085</td>\n",
       "    </tr>\n",
       "    <tr>\n",
       "      <th>4</th>\n",
       "      <td>Linear support vector machines</td>\n",
       "      <td>68.09</td>\n",
       "      <td>0.792925</td>\n",
       "      <td>0.730823</td>\n",
       "      <td>0.492883</td>\n",
       "    </tr>\n",
       "    <tr>\n",
       "      <th>1</th>\n",
       "      <td>DecisionTreeClassifier</td>\n",
       "      <td>97.86</td>\n",
       "      <td>0.092110</td>\n",
       "      <td>0.924583</td>\n",
       "      <td>0.476868</td>\n",
       "    </tr>\n",
       "    <tr>\n",
       "      <th>7</th>\n",
       "      <td>AdaBoost</td>\n",
       "      <td>97.82</td>\n",
       "      <td>0.082373</td>\n",
       "      <td>0.931936</td>\n",
       "      <td>0.475089</td>\n",
       "    </tr>\n",
       "    <tr>\n",
       "      <th>3</th>\n",
       "      <td>Gaussian Naive Bayes</td>\n",
       "      <td>59.00</td>\n",
       "      <td>0.716117</td>\n",
       "      <td>0.769475</td>\n",
       "      <td>0.085409</td>\n",
       "    </tr>\n",
       "  </tbody>\n",
       "</table>\n",
       "</div>"
      ],
      "text/plain": [
       "                            Model  R2 Score  RMSE score  Accuracy score  \\\n",
       "6     Stochastic Gradient descent     42.24    0.919913        0.080087   \n",
       "8                        XG Boost     86.83    0.161566        0.890302   \n",
       "0             Logistic Regression     71.33    0.196045        0.848072   \n",
       "2          RandomForestClassifier     97.86    0.081280        0.929452   \n",
       "5              K-nearest neighbor     96.71    0.097178        0.917727   \n",
       "4  Linear support vector machines     68.09    0.792925        0.730823   \n",
       "1          DecisionTreeClassifier     97.86    0.092110        0.924583   \n",
       "7                        AdaBoost     97.82    0.082373        0.931936   \n",
       "3            Gaussian Naive Bayes     59.00    0.716117        0.769475   \n",
       "\n",
       "   Accuracy score (Fatal events)  \n",
       "6                       0.955516  \n",
       "8                       0.786477  \n",
       "0                       0.713523  \n",
       "2                       0.610320  \n",
       "5                       0.596085  \n",
       "4                       0.492883  \n",
       "1                       0.476868  \n",
       "7                       0.475089  \n",
       "3                       0.085409  "
      ]
     },
     "execution_count": 44,
     "metadata": {},
     "output_type": "execute_result"
    }
   ],
   "source": [
    "ValidScore=SupervisedLearning(X_train_upsampled,Y_train_upsampled,X_Valid,Y_Valid)\n",
    "ValidScore.sort_values(by='Accuracy score (Fatal events)', ascending=False)"
   ]
  },
  {
   "cell_type": "code",
   "execution_count": 45,
   "metadata": {},
   "outputs": [
    {
     "name": "stdout",
     "output_type": "stream",
     "text": [
      " XGBoost Classifier after UpSampling based prediction for the month of October 2018 -Feb 2019\n",
      "Root mean square error 0.1457493763193245\n",
      "Accuracy 0.890520053732489\n",
      "Accuracy (Fatal events) 0.8\n"
     ]
    }
   ],
   "source": [
    "# Next best accuracy score is using XGBoost Classifier the overall accuracy score is 89%\n",
    "# and for fatal event is very good 80% so we use that to predict test data\n",
    "XGBmodel=XGBClassifier(seed=1,learning_rate=0.1,n_estimators=100)\n",
    "XGBmodel.fit(X_train_upsampled,Y_train_upsampled)\n",
    "Y_pred_test_upsampled1=XGBmodel.predict(X_test)\n",
    "RMSE_test_upsampled1=mean_squared_error(Y_test, Y_pred_test_upsampled1)\n",
    "Acc_test_upsampled1=accuracy_score(Y_test, Y_pred_test_upsampled1)\n",
    "Acc_fatal_test_upsampled1=accuracy_score(Y_test[Y_test>0],Y_pred_test_upsampled1[Y_test>0])\n",
    "print(' XGBoost Classifier after UpSampling based prediction for the month of October 2018 -Feb 2019')\n",
    "print('Root mean square error',RMSE_test_upsampled1)\n",
    "print('Accuracy',Acc_test_upsampled1)\n",
    "print('Accuracy (Fatal events)',Acc_fatal_test_upsampled1)"
   ]
  },
  {
   "cell_type": "code",
   "execution_count": 46,
   "metadata": {},
   "outputs": [
    {
     "name": "stdout",
     "output_type": "stream",
     "text": [
      " Logistic Regression Classifier after UpSampling based prediction for the month of October 2018 -Feb 2019\n",
      "Root mean square error 0.18700825177509114\n",
      "Accuracy 0.8331414315870275\n",
      "Accuracy (Fatal events) 0.7533980582524272\n"
     ]
    }
   ],
   "source": [
    "# Next best accuracy score is using Logistic Regression the overall accuracy score is 84%\n",
    "# and for fatal event is very good 71% so we use that to predict test data\n",
    "logreg=LogisticRegression(solver=\"newton-cg\",multi_class='multinomial')\n",
    "logreg.fit(X_train_upsampled,Y_train_upsampled)\n",
    "Y_pred_test_upsampled2=logreg.predict(X_test)\n",
    "RMSE_test_upsampled2=mean_squared_error(Y_test, Y_pred_test_upsampled2)\n",
    "Acc_test_upsampled2=accuracy_score(Y_test, Y_pred_test_upsampled2)\n",
    "Acc_fatal_test_upsampled2=accuracy_score(Y_test[Y_test>0],Y_pred_test_upsampled2[Y_test>0])\n",
    "print(' Logistic Regression Classifier after UpSampling based prediction for the month of October 2018 -Feb 2019')\n",
    "print('Root mean square error',RMSE_test_upsampled2)\n",
    "print('Accuracy',Acc_test_upsampled2)\n",
    "print('Accuracy (Fatal events)',Acc_fatal_test_upsampled2)"
   ]
  },
  {
   "cell_type": "code",
   "execution_count": 47,
   "metadata": {},
   "outputs": [],
   "source": [
    "# Technique#2.penalized learning algorithms that increase the cost of classification mistakes on the minority class\n",
    "from sklearn.svm import SVC\n",
    "SVC_penalized = SVC(kernel='linear',class_weight='balanced',probability=True)\n",
    "SVC_penalized.fit(X_train,Y_train)\n",
    "Y_pred_SVC_penalized=SVC_penalized.predict(X_Valid)\n",
    "R2_SVC_penalized=round(SVC_penalized.score(X_train,Y_train)*100,2)\n",
    "RMSE_SVC_penalized=mean_squared_error(Y_Valid, Y_pred_SVC_penalized)\n",
    "Acc_SVC_penalized=accuracy_score(Y_Valid, Y_pred_SVC_penalized)\n",
    "Acc_fatal_SVC_penalized=accuracy_score(Y_Valid[Y_Valid>0],Y_pred_SVC_penalized[Y_Valid>0])"
   ]
  },
  {
   "cell_type": "code",
   "execution_count": 48,
   "metadata": {},
   "outputs": [],
   "source": [
    "logreg_penalized=LogisticRegression(solver=\"newton-cg\",multi_class='multinomial',class_weight='balanced')\n",
    "logreg_penalized.fit(X_train,Y_train)\n",
    "Y_pred_log_penalized=logreg_penalized.predict(X_Valid)\n",
    "R2_log_penalized=round(logreg_penalized.score(X_train,Y_train)*100,2)\n",
    "RMSE_log_penalized=mean_squared_error(Y_Valid, Y_pred_log_penalized)\n",
    "Acc_log_penalized=accuracy_score(Y_Valid, Y_pred_log_penalized)\n",
    "Acc_fatal_log_penalized=accuracy_score(Y_Valid[Y_Valid>0],Y_pred_log_penalized[Y_Valid>0])"
   ]
  },
  {
   "cell_type": "code",
   "execution_count": 49,
   "metadata": {},
   "outputs": [
    {
     "data": {
      "text/html": [
       "<div>\n",
       "<style scoped>\n",
       "    .dataframe tbody tr th:only-of-type {\n",
       "        vertical-align: middle;\n",
       "    }\n",
       "\n",
       "    .dataframe tbody tr th {\n",
       "        vertical-align: top;\n",
       "    }\n",
       "\n",
       "    .dataframe thead th {\n",
       "        text-align: right;\n",
       "    }\n",
       "</style>\n",
       "<table border=\"1\" class=\"dataframe\">\n",
       "  <thead>\n",
       "    <tr style=\"text-align: right;\">\n",
       "      <th></th>\n",
       "      <th>Model</th>\n",
       "      <th>R2 Score</th>\n",
       "      <th>RMSE score</th>\n",
       "      <th>Accuracy score</th>\n",
       "      <th>Accuracy score (Fatal events)</th>\n",
       "    </tr>\n",
       "  </thead>\n",
       "  <tbody>\n",
       "    <tr>\n",
       "      <th>1</th>\n",
       "      <td>Penalized Logistic Regression</td>\n",
       "      <td>88.62</td>\n",
       "      <td>0.188096</td>\n",
       "      <td>0.859897</td>\n",
       "      <td>0.677936</td>\n",
       "    </tr>\n",
       "    <tr>\n",
       "      <th>0</th>\n",
       "      <td>Penalized Support Vector Machine</td>\n",
       "      <td>88.20</td>\n",
       "      <td>0.220787</td>\n",
       "      <td>0.851053</td>\n",
       "      <td>0.645907</td>\n",
       "    </tr>\n",
       "  </tbody>\n",
       "</table>\n",
       "</div>"
      ],
      "text/plain": [
       "                              Model  R2 Score  RMSE score  Accuracy score  \\\n",
       "1     Penalized Logistic Regression     88.62    0.188096        0.859897   \n",
       "0  Penalized Support Vector Machine     88.20    0.220787        0.851053   \n",
       "\n",
       "   Accuracy score (Fatal events)  \n",
       "1                       0.677936  \n",
       "0                       0.645907  "
      ]
     },
     "execution_count": 49,
     "metadata": {},
     "output_type": "execute_result"
    }
   ],
   "source": [
    "PenalizedValidation = pd.DataFrame({\n",
    "        'Model': ['Penalized Support Vector Machine','Penalized Logistic Regression'],\n",
    "        'R2 Score': [R2_SVC_penalized,R2_log_penalized],\n",
    "        'RMSE score':[RMSE_SVC_penalized,RMSE_log_penalized],\n",
    "        'Accuracy score':[Acc_SVC_penalized,Acc_log_penalized],\n",
    "        'Accuracy score (Fatal events)':[Acc_fatal_SVC_penalized,Acc_fatal_log_penalized]})\n",
    "PenalizedValidation.sort_values(by='Accuracy score (Fatal events)', ascending=False)"
   ]
  },
  {
   "cell_type": "code",
   "execution_count": 50,
   "metadata": {},
   "outputs": [
    {
     "name": "stdout",
     "output_type": "stream",
     "text": [
      " Logistic Regression Classifier with penalization based prediction for the month of October 2018 -Feb 2019\n",
      "Root mean square error 0.17549414699673768\n",
      "Accuracy 0.8463826520821339\n",
      "Accuracy (Fatal events) 0.7300970873786408\n"
     ]
    }
   ],
   "source": [
    "# Use penalized logistic regression to predict on test data\n",
    "Y_pred_test_penalized=logreg_penalized.predict(X_test)\n",
    "RMSE_test_penalized=mean_squared_error(Y_test, Y_pred_test_penalized)\n",
    "Acc_test_penalized=accuracy_score(Y_test, Y_pred_test_penalized)\n",
    "Acc_fatal_test_penalized=accuracy_score(Y_test[Y_test>0],Y_pred_test_penalized[Y_test>0])\n",
    "print(' Logistic Regression Classifier with penalization based prediction for the month of October 2018 -Feb 2019')\n",
    "print('Root mean square error',RMSE_test_penalized)\n",
    "print('Accuracy',Acc_test_penalized)\n",
    "print('Accuracy (Fatal events)',Acc_fatal_test_penalized)"
   ]
  },
  {
   "cell_type": "code",
   "execution_count": 51,
   "metadata": {},
   "outputs": [
    {
     "data": {
      "image/png": "[encoded data removed]",
      "text/plain": [
       "<Figure size 432x288 with 2 Axes>"
      ]
     },
     "metadata": {
      "needs_background": "light"
     },
     "output_type": "display_data"
    }
   ],
   "source": [
    "class_names=[\"Non Fatal\",\"Low Fatality\",\"High Fatality\"]\n",
    "from sklearn.metrics import confusion_matrix\n",
    "def plot_confusion_matrix(y_true, y_pred, classes,normalize=False,cmap=plt.cm.Blues):\n",
    "    if normalize:\n",
    "        title = 'Normalized confusion matrix'\n",
    "    else:\n",
    "        title = 'Confusion matrix, without normalization'\n",
    "    # Compute confusion matrix\n",
    "    cm = confusion_matrix(y_true, y_pred)\n",
    "    fig, ax = plt.subplots()\n",
    "    im = ax.imshow(cm, interpolation='nearest', cmap=cmap)\n",
    "    ax.figure.colorbar(im, ax=ax)\n",
    "    # We want to show all ticks...\n",
    "    ax.set(xticks=np.arange(cm.shape[1]), yticks=np.arange(cm.shape[0]),\n",
    "           # ... and label them with the respective list entries\n",
    "           xticklabels=classes, yticklabels=classes,\n",
    "           title=title,ylabel='True label',xlabel='Predicted label')\n",
    "    # Rotate the tick labels and set their alignment.\n",
    "    plt.setp(ax.get_xticklabels(), rotation=45, ha=\"right\",rotation_mode=\"anchor\")\n",
    "    # Loop over data dimensions and create text annotations.\n",
    "    for i in range(cm.shape[0]):\n",
    "        for j in range(cm.shape[1]):\n",
    "            ax.text(j, i, cm[i, j],ha=\"center\", va=\"center\")\n",
    "    fig.tight_layout()\n",
    "    return ax\n",
    "# Plot non-normalized confusion matrix\n",
    "plot_confusion_matrix(Y_test, Y_pred_test_upsampled1, classes=class_names)\n",
    "plt.show()"
   ]
  },
  {
   "cell_type": "code",
   "execution_count": 52,
   "metadata": {},
   "outputs": [],
   "source": [
    "# Accuracy of Eventype-wise prediction\n",
    "Eventype_Acc=pd.Series(index=Events.Event)\n",
    "Eventype_Fatal_Acc=pd.Series(index=Events.Event)\n",
    "for i in range(len(Events)):\n",
    "    Event_imask=X_test.Event_label==i\n",
    "    Y_test_imask=Y_test[Event_imask]\n",
    "    Y_pred_imask=Y_pred_test_upsampled1[Event_imask]\n",
    "    Eventype_Acc[Events.Event[i]]=accuracy_score(Y_test_imask,Y_pred_imask)\n",
    "    Eventype_Fatal_Acc[Events.Event[i]]=accuracy_score(Y_test_imask[Y_test_imask>0],Y_pred_imask[Y_test_imask>0])\n",
    "Eventype_Acc.fillna(0,inplace=True)\n",
    "Eventype_Fatal_Acc.fillna(0,inplace=True)"
   ]
  },
  {
   "cell_type": "code",
   "execution_count": 53,
   "metadata": {},
   "outputs": [
    {
     "data": {
      "image/png": "[encoded data removed]",
      "text/plain": [
       "<Figure size 1080x576 with 2 Axes>"
      ]
     },
     "metadata": {
      "needs_background": "light"
     },
     "output_type": "display_data"
    }
   ],
   "source": [
    "fig, axs=plt.subplots(nrows=2, figsize=(15,8))\n",
    "for i in range(2):\n",
    "    if i==0:\n",
    "        Eventype_Acc.plot.bar(ax=axs[i])\n",
    "        axs[i].get_xaxis().set_ticks([])\n",
    "        axs[i].set_title('Non-Fatal events') \n",
    "        axs[i].set_ylabel('Accuracy')\n",
    "        axs[i].set_xlabel(None)\n",
    "    elif i==1:\n",
    "        Eventype_Fatal_Acc.plot.bar(ax=axs[i])\n",
    "        axs[i].set_title('Fatal events') \n",
    "        axs[i].set_ylabel('Accuracy')\n",
    "        axs[i].set_xticklabels(list(Events.Event))\n",
    "        plt.setp(axs[i].get_xticklabels(), rotation=45, ha=\"right\",rotation_mode=\"anchor\")"
   ]
  }
 ],
 "metadata": {
  "kernelspec": {
   "display_name": "Python 3",
   "language": "python",
   "name": "python3"
  },
  "language_info": {
   "codemirror_mode": {
    "name": "ipython",
    "version": 3
   },
   "file_extension": ".py",
   "mimetype": "text/x-python",
   "name": "python",
   "nbconvert_exporter": "python",
   "pygments_lexer": "ipython3",
   "version": "3.7.1"
  }
 },
 "nbformat": 4,
 "nbformat_minor": 2
}
